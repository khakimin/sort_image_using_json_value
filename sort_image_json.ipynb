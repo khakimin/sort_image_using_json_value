import os
import json


parent_dir = "/home/"

with open('/home/meta_data.json') as json_data:
    data = json.load(json_data)


    for key in data:
        anomaly_class_folder_name = data[key]['anomaly_class']
        image_fp = data[key]['image_filepath']
        
        # Strip path from image file
        file_name = os.path.basename(image_fp)

        # Create Folder
        path = os.path.join(parent_dir, anomaly_class_folder_name)
        os.makedirs(path, exist_ok=True)

        # Move file to target directory
        os.replace(image_fp, path + "/" + file_name)
